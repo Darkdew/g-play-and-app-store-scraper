{
  "nbformat": 4,
  "nbformat_minor": 0,
  "metadata": {
    "colab": {
      "name": "google-play-scraping.ipynb",
      "provenance": [],
      "collapsed_sections": []
    },
    "kernelspec": {
      "name": "python3",
      "display_name": "Python 3"
    },
    "language_info": {
      "name": "python"
    }
  },
  "cells": [
    {
      "cell_type": "code",
      "metadata": {
        "colab": {
          "base_uri": "https://localhost:8080/"
        },
        "id": "JOVF1nwrjqnr",
        "outputId": "37dde2b8-9144-4106-fe26-f775a6972a9e"
      },
      "source": [
        "!pip install google-play-scraper"
      ],
      "execution_count": 1,
      "outputs": [
        {
          "output_type": "stream",
          "text": [
            "Requirement already satisfied: google-play-scraper in /usr/local/lib/python3.7/dist-packages (0.2.1)\n"
          ],
          "name": "stdout"
        }
      ]
    },
    {
      "cell_type": "code",
      "metadata": {
        "id": "oZRbuY9Zp3yI"
      },
      "source": [
        "from google_play_scraper import app\n",
        "\n",
        "result = app(\n",
        "    'com.ognomy',\n",
        "    lang='en', # defaults to 'en'\n",
        "    country='us' # defaults to 'us'\n",
        ")"
      ],
      "execution_count": 2,
      "outputs": []
    },
    {
      "cell_type": "code",
      "metadata": {
        "colab": {
          "base_uri": "https://localhost:8080/"
        },
        "id": "WcV2y5PRp8Pn",
        "outputId": "78ac0a30-f5f6-47d5-9cde-14dc35ba1e4c"
      },
      "source": [
        "print(result)"
      ],
      "execution_count": 3,
      "outputs": [
        {
          "output_type": "stream",
          "text": [
            "{'title': 'Ognomy: Sleep Apnea Doctors Care From Home', 'description': 'Have you heard of sleep apnea? Perhaps you’ve been diagnosed before? Or perhaps you are trying to find a cure for snoring, tiredness or excessive sleepiness during the day?\\r\\n \\r\\nSleep apnea is a serious disorder in which your breathing repeatedly stops and starts while you sleep. Over 25 million Americans have it, but 80% still remain undiagnosed. \\r\\n\\r\\nWhat is Ognomy?\\r\\n\\r\\nOgnomy is the only end-to end care platform for sleep apnea, where patients meet doctors virtually, to get tested, diagnosed and treated for this terrible disease, all from the comfort of their homes.\\r\\n\\r\\nWho Is It For?\\r\\n\\r\\nOgnomy is for anybody who struggles with sleep apnea symptoms and needs to see a specialist but prefers the convenience, affordability, or privacy of telemedicine and virtual care. The goal of Ognomy is to safely and confidentiality help the patient to make knowledgeable, educated decisions concerning their own health, and put you on the right course of treatment and on-going care.\\r\\n\\r\\nIn some instances, access to care may be limited by the availability of sleep specialists, geography, difficulty getting to see a physician or simply a preference not to have an in-office visit. Ognomy’s state-of-the-art telemedicine platform accommodates for these situations - allowing experts to guide patients through each stage of their sleep apnea care in the comfort of their own home or on the go. \\r\\n\\r\\n\\r\\nHow does Ognomy work?\\r\\n\\r\\n1) Install the app.\\r\\n2) Give your information as if you’re meeting your doctor for the first time.\\r\\n3) Schedule a video consultation with one of our board-certified sleep medicine specialists.\\r\\n4) Through our innovative, online platform, patients schedule their virtual appointment with a board-certified sleep physician at a time that works for their schedule. Each physician is licensed in the patient’s state as required by state licensing laws. \\r\\n5) If found to be at risk for sleep apnea, patients will complete a home sleep apnea test in the comfort of their own bed and, once returned, schedule another telemedicine appointment with their physician to analyze the test results. \\r\\n6) If a positive diagnosis is returned, the patient will receive a prescription, personalized therapy equipment recommendations, be connected directly to a durable medical equipment supplier (to send your CPAP, BiPAP, or other treatment as required) and get on-going support to help acclimate to sleep therapy.\\r\\n7) Over the next few months you can track your treatment progress through the app and attend follow-up virtual consultations as we guide you on your journey to better sleep.\\r\\n \\r\\nBenefits of using Ognomy:\\r\\n \\r\\n- No commute: jump out of bed and be on time! Convenient appointments anywhere, anytime (weekends as well as weekdays). File your paperwork, take a sleep test, schedule your appointment, pay your copay, and video chat with your doctor from our HIPAA-compliant app, without ever leaving the house\\r\\n\\r\\n- Simple interface: Our interface is intuitive and easy to use and can be accessed using either a tablet or an Apple or Android mobile device. This offers better flexibility and reduces the time commitment of patients.\\r\\n\\r\\n- Lower cost: we accept most insurances but also Ognomy is self-pay, or you can pay through our monthly subscription model. This means no waiting for insurance approvals, no physician referrals, and no commitment other than a desire to improve your sleep and quality of life.\\r\\n\\r\\n \\r\\nDon’t ignore your symptoms anymore. Get Ognomy - and finally say goodnight to sleep apnea!', 'descriptionHTML': 'Have you heard of sleep apnea? Perhaps you’ve been diagnosed before? Or perhaps you are trying to find a cure for snoring, tiredness or excessive sleepiness during the day?<br> <br>Sleep apnea is a serious disorder in which your breathing repeatedly stops and starts while you sleep. Over 25 million Americans have it, but 80% still remain undiagnosed. <br><br>What is Ognomy?<br><br>Ognomy is the only end-to end care platform for sleep apnea, where patients meet doctors virtually, to get tested, diagnosed and treated for this terrible disease, all from the comfort of their homes.<br><br>Who Is It For?<br><br>Ognomy is for anybody who struggles with sleep apnea symptoms and needs to see a specialist but prefers the convenience, affordability, or privacy of telemedicine and virtual care. The goal of Ognomy is to safely and confidentiality help the patient to make knowledgeable, educated decisions concerning their own health, and put you on the right course of treatment and on-going care.<br><br>In some instances, access to care may be limited by the availability of sleep specialists, geography, difficulty getting to see a physician or simply a preference not to have an in-office visit. Ognomy’s state-of-the-art telemedicine platform accommodates for these situations - allowing experts to guide patients through each stage of their sleep apnea care in the comfort of their own home or on the go. <br><br><br>How does Ognomy work?<br><br>1) Install the app.<br>2) Give your information as if you’re meeting your doctor for the first time.<br>3) Schedule a video consultation with one of our board-certified sleep medicine specialists.<br>4) Through our innovative, online platform, patients schedule their virtual appointment with a board-certified sleep physician at a time that works for their schedule. Each physician is licensed in the patient’s state as required by state licensing laws. <br>5) If found to be at risk for sleep apnea, patients will complete a home sleep apnea test in the comfort of their own bed and, once returned, schedule another telemedicine appointment with their physician to analyze the test results. <br>6) If a positive diagnosis is returned, the patient will receive a prescription, personalized therapy equipment recommendations, be connected directly to a durable medical equipment supplier (to send your CPAP, BiPAP, or other treatment as required) and get on-going support to help acclimate to sleep therapy.<br>7) Over the next few months you can track your treatment progress through the app and attend follow-up virtual consultations as we guide you on your journey to better sleep.<br> <br>Benefits of using Ognomy:<br> <br>- No commute: jump out of bed and be on time! Convenient appointments anywhere, anytime (weekends as well as weekdays). File your paperwork, take a sleep test, schedule your appointment, pay your copay, and video chat with your doctor from our HIPAA-compliant app, without ever leaving the house<br><br>- Simple interface: Our interface is intuitive and easy to use and can be accessed using either a tablet or an Apple or Android mobile device. This offers better flexibility and reduces the time commitment of patients.<br><br>- Lower cost: we accept most insurances but also Ognomy is self-pay, or you can pay through our monthly subscription model. This means no waiting for insurance approvals, no physician referrals, and no commitment other than a desire to improve your sleep and quality of life.<br><br> <br>Don’t ignore your symptoms anymore. Get Ognomy - and finally say goodnight to sleep apnea!', 'summary': 'The total sleep apnea care solution - to test, diagnose & treat you remotely.', 'summaryHTML': 'The total sleep apnea care solution - to test, diagnose &amp; treat you remotely.', 'installs': '10,000+', 'minInstalls': 10000, 'score': 4.1707315, 'ratings': 41, 'reviews': 18, 'histogram': [6, 1, 2, 3, 29], 'price': 0, 'free': True, 'currency': 'USD', 'sale': False, 'saleTime': None, 'originalPrice': None, 'saleText': None, 'offersIAP': False, 'inAppProductPrice': None, 'size': '142M', 'androidVersion': '5.0', 'androidVersionText': '5.0 and up', 'developer': 'Ognomy', 'developerId': 'Ognomy', 'developerEmail': 'sheepa@ognomy.com', 'developerWebsite': 'http://www.ognomy.com', 'developerAddress': '1120 Youngs Rd\\nWilliamsville, NY 14221', 'privacyPolicy': 'https://ognomy.com/privacy-policy/', 'developerInternalID': '5313138524813306666', 'genre': 'Health & Fitness', 'genreId': 'HEALTH_AND_FITNESS', 'icon': 'https://play-lh.googleusercontent.com/OlqURzCkrtaYpdPAbdmB803igcOXPiRYfrgo9OOg2HbkrFntVWFRSdeQA4efiTb6qTEt', 'headerImage': 'https://play-lh.googleusercontent.com/KCcr7qILessZfJuzbj27PTm36pU1Q3RFHv4L1n0tuusFXAFAvIo-JpoWuEaKeQnJK-8', 'screenshots': ['https://play-lh.googleusercontent.com/bt8S5y5ygRFqjGGYYCJjP3DX9HQE74DC41XoYoRimKpekyBzh3KLIF3fxRgqFHfS71A', 'https://play-lh.googleusercontent.com/jo3teYrBmOACphW98x1wDp_nekosaRidvuLnvwXToOq-DRhzP7itPXcgcTfv80GaJEfZ', 'https://play-lh.googleusercontent.com/bSaVv05Xbvw-4ilMupv9ZT-uqqK7xWaIizG7zYZ1ImUzSgBrjiQbRC3IH40jQfH6j4Y', 'https://play-lh.googleusercontent.com/KOUenYFcTWQ2jaRrqtPJUBRvPe5ja_O25rE9UYBsWX0L4FvLjpzYKCHrH9p54Iiv9A', 'https://play-lh.googleusercontent.com/ezBJlXRp-4DY9M1RmBkbytAlieTflmUbn9FsDq-dXg2k1Y5hX-OujhWo4xgWdAFtQ_c', 'https://play-lh.googleusercontent.com/h0ChSnYEiCYPnTv8VJ_Ofvgd6goaxQfciVAW9D-3lT5OdQz5B2hpz3VRyh4hnu5j6AQ', 'https://play-lh.googleusercontent.com/7R68G09plOyvkMIYK0kIWCG64LyxS1nkzVFYVGZS2bN8iPmC_BpiuN7H7j3tn7kdMcI', 'https://play-lh.googleusercontent.com/tJTtgcSJAbbbqdXBVn89th45zbmjEEwPAPhuaH_nDYlNPebGl2Iyys9EzD-OxGKj4v4'], 'video': 'https://www.youtube.com/embed/GWs2wPQHRbM?ps=play&vq=large&rel=0&autohide=1&showinfo=0', 'videoImage': 'https://i.ytimg.com/vi/GWs2wPQHRbM/hqdefault.jpg', 'contentRating': 'Everyone', 'contentRatingDescription': None, 'adSupported': None, 'containsAds': False, 'released': 'Jun 24, 2020', 'updated': 1621003479, 'version': '2.2.7', 'recentChanges': 'Fixed Insurance Upload Issue', 'recentChangesHTML': 'Fixed Insurance Upload Issue', 'comments': [\"The app is simple to use and provides a good way to communicate with the Dr. and track your progress. However, there are times when things would go better without the app. When a form needs to be filled out, Ognomy sends it to you in an email. It can't be filled out electronically so you have to print it, then fill it out, the scan it or photograph it, then return it through the app. For me it would be much simpler to complete it on my PC and attach it to a reply email. OR, print it, fill it out, scan it, and attach it to a reply email. When an appointment is scheduled, Ognomy wants to handle the video call through the app. I HATE THIS. It's so much simpler for me to set up a video call on my laptop. The screen is larger, and the laptop sits on my desk. It's much more convenient than video chatting on my phone. My doctor has been able to accommodate my request, but I have to request that he set it up and send me a link. I would like to be able to specify my preferred device at the time the appointment is scheduled.\", 'After 35 years of waking up at least 4 times a night, I decided to look into getting tested for sleep apnea. Ognomy connects you with facilities that offer at home sleep tests and all of your appointments can be via telemedicine. The sleep test was simple and within 2 weeks of my diagnosis I was able to get my CPAP machine. I am sleeping through the night for the first time in my life and no longer need to nap every day. LIFE CHANGING.', \"Using this app to link my nightly sleep results/ changes to Dr. RIFKIN to monitor and adjust was the best decision I've made to improve my sleep.\", \"Good step in finding locations it's a necessity to have this app.\", \"They wanted so much personal info, and started talking about a consultation (which I had no interest in), I uninstalled the app before even getting started. I'd rather not be required to give some random app my phone number, personal address, agree to getting unwanted emails, etc. Please let me just open the app, no password, assess my sleep cycles, and close the app. Simple.\", \"Wanted all my personal information including insurance there's other apps that are free\", 'Annoying app that doesnt actually diagnose just a cash grab scam', 'A convenient, secure way to meet with the physician. Highly recommend.', 'Nice app', 'Very bad', 'Amazing Y', 'Enjoying it', 'Good app', 'Very nice', 'Nice apps', 'Nice', 'Great'], 'editorsChoice': False, 'appId': 'com.ognomy', 'url': 'https://play.google.com/store/apps/details?id=com.ognomy&hl=en&gl=us'}\n"
          ],
          "name": "stdout"
        }
      ]
    },
    {
      "cell_type": "code",
      "metadata": {
        "id": "CE0SZYeIqXXn"
      },
      "source": [
        "from google_play_scraper import Sort, reviews\n",
        "\n",
        "result, continuation_token = reviews(\n",
        "    'com.ognomy',\n",
        "    lang='en', # defaults to 'en'\n",
        "    country='us', # defaults to 'us'\n",
        "    #sort=Sort.MOST_RELEVANT, # defaults to Sort.MOST_RELEVANT\n",
        "    count=80, # defaults to 100\n",
        "    #filter_score_with=5 # defaults to None(means all score)\n",
        ")\n",
        "\n",
        "\n",
        "result, _ = reviews(\n",
        "    'com.ognomy',\n",
        "    continuation_token=continuation_token # defaults to None(load from the beginning)\n",
        ")"
      ],
      "execution_count": 4,
      "outputs": []
    },
    {
      "cell_type": "code",
      "metadata": {
        "colab": {
          "base_uri": "https://localhost:8080/"
        },
        "id": "1kYzUbEJqnNn",
        "outputId": "5d682822-fde7-439b-817f-95fa44846b25"
      },
      "source": [
        "print(result)"
      ],
      "execution_count": 5,
      "outputs": [
        {
          "output_type": "stream",
          "text": [
            "[{'reviewId': 'gp:AOqpTOHDdcQ5E_VY2Dpk0LcH6veQ6pkT1Kq3DgnK1Jdb-DpWSbeuexs7_fIioVJR-cv0u1imGO9g94UBCsPdu2c', 'userName': 'Rose Tv21', 'userImage': 'https://play-lh.googleusercontent.com/a-/AOh14GixGYq_WAHJMTejvDoQ58ny16-LLg5CnZqAbThB', 'content': 'Nice', 'score': 5, 'thumbsUpCount': 0, 'reviewCreatedVersion': None, 'at': datetime.datetime(2021, 5, 2, 11, 37, 11), 'replyContent': None, 'repliedAt': None}, {'reviewId': 'gp:AOqpTOF-lP3iAlF8WblN8ppOI9rJiTdrp5VfO4QQvIxADFuP0ZMNaR6fngGl9cgmc9XLfuF1Wy1jzSBLdDcvetQ', 'userName': 'Saikat Tripura', 'userImage': 'https://play-lh.googleusercontent.com/a/AATXAJw8YlutGs92xJFv1zQpEPXPDlT0LCZLyk0ndsa6=mo', 'content': 'Good app', 'score': 5, 'thumbsUpCount': 0, 'reviewCreatedVersion': None, 'at': datetime.datetime(2021, 4, 25, 9, 35, 31), 'replyContent': None, 'repliedAt': None}, {'reviewId': 'gp:AOqpTOHCUrWtxB14aYCpdLZQ3az2_Dzd5pgqgLvTSjHgLkVa3Xiz8gLcD6y7IuJKwkYn5ui6kwWeBk24YlYRgQY', 'userName': 'Tanmoy Sarkar', 'userImage': 'https://play-lh.googleusercontent.com/a/AATXAJzSFAWoNlYdIdA51JGXMeeKyUUdUcW4fV2H2xKQ=mo', 'content': 'Nice apps', 'score': 5, 'thumbsUpCount': 1, 'reviewCreatedVersion': None, 'at': datetime.datetime(2021, 4, 23, 8, 26, 13), 'replyContent': None, 'repliedAt': None}, {'reviewId': 'gp:AOqpTOHlzPoPwAvbW_sHi7RjRxrHXS7PEsPI4O4bEj08fawsAh0dy9f9eaDwtXmlWkQPI7P1bS6vhLvILLfqChY', 'userName': 'ÍMON KUMAR', 'userImage': 'https://play-lh.googleusercontent.com/a-/AOh14GgBFrfqIB65Yn1iHQRYXuq5zI_QQRMdNSrnYtGf', 'content': 'Nice app', 'score': 5, 'thumbsUpCount': 0, 'reviewCreatedVersion': '2.2.6', 'at': datetime.datetime(2021, 4, 23, 6, 44, 13), 'replyContent': None, 'repliedAt': None}, {'reviewId': 'gp:AOqpTOGf2p7dyaGnDUnEGvFWmL-XxvSyOjwBfmx1SwHxfIvppTFd4iIWYm70gx5rQNqATm0WKMFfx7J6IjiA1NY', 'userName': 'Chanda Biswas', 'userImage': 'https://play-lh.googleusercontent.com/a-/AOh14Gjv6peuIG0G-ACp7NecZk2NP8nl2PkpBFKlg2h2', 'content': 'Very nice', 'score': 5, 'thumbsUpCount': 0, 'reviewCreatedVersion': None, 'at': datetime.datetime(2021, 4, 20, 5, 58, 3), 'replyContent': None, 'repliedAt': None}, {'reviewId': 'gp:AOqpTOGv0ZRIJmKBGrdGjPyQ4JlFIu1QlEWIBBPUiaJY7MT7BXHoH66OCyokNVyZ6b_EgmeNyaUIhkEf-_O3puI', 'userName': 'em s', 'userImage': 'https://play-lh.googleusercontent.com/a/AATXAJwdvMfumJHZu0IldIt45YYejVl9elRtaHgj8nfc=mo', 'content': \"Using this app to link my nightly sleep results/ changes to Dr. RIFKIN to monitor and adjust was the best decision I've made to improve my sleep.\", 'score': 5, 'thumbsUpCount': 6, 'reviewCreatedVersion': '2.0.1', 'at': datetime.datetime(2021, 4, 1, 1, 36, 21), 'replyContent': None, 'repliedAt': None}, {'reviewId': 'gp:AOqpTOEN2b9M9P-dqLrNjhtflUoNmLqR_ab2orVwktarcjM7jksD_IsRuQz0SezjDer-J2znoB3S461dyYIw12U', 'userName': 'Davis Lockwood', 'userImage': 'https://play-lh.googleusercontent.com/a/AATXAJwW1X1AS0PDYFbVBhk00R-Mb7Qi4L1-jeRC43bo=mo', 'content': 'Annoying app that doesnt actually diagnose just a cash grab scam', 'score': 1, 'thumbsUpCount': 0, 'reviewCreatedVersion': None, 'at': datetime.datetime(2021, 3, 31, 3, 8, 10), 'replyContent': 'Hi Davis, this is not a fair reflection of our company and the hard work we have put into providing a good service for our patients. Over 3000 patients have had a positive experience with us & we are anything but a cash grab scam. This kind of review can be very detrimental to reputations. Please only post what is actually true...happy to discuss!', 'repliedAt': datetime.datetime(2021, 4, 1, 7, 41, 1)}, {'reviewId': 'gp:AOqpTOFdwVPK0D-EJ9pT6P0fqkDfQvIDJPzJlEt0uPXHOAjy1_Ra_tF3-IWv3VrUvBbq0Tr60zKPi4RLWBytKbE', 'userName': 'Colleen Foley', 'userImage': 'https://play-lh.googleusercontent.com/a/AATXAJzWYckpvUjQIuoTf9r06tY5KheqdIh0uSfOft0E=mo', 'content': 'After 35 years of waking up at least 4 times a night, I decided to look into getting tested for sleep apnea. Ognomy connects you with facilities that offer at home sleep tests and all of your appointments can be via telemedicine. The sleep test was simple and within 2 weeks of my diagnosis I was able to get my CPAP machine. I am sleeping through the night for the first time in my life and no longer need to nap every day. LIFE CHANGING.', 'score': 5, 'thumbsUpCount': 17, 'reviewCreatedVersion': '2.0.1', 'at': datetime.datetime(2021, 2, 1, 4, 57, 17), 'replyContent': 'Thank you for your feedback Colleen! We really appreciate it, and we are thrilled to continue to help you on your journey to better sleep.\\n', 'repliedAt': datetime.datetime(2021, 2, 5, 9, 54, 8)}, {'reviewId': 'gp:AOqpTOGuIjzocyTx4O_mN_VYg8sWDloJG2G--qEsrgp72Tfuu-U9fkdkwoEwd9NMV3v1YZ0fbb2PoO57Vgyh8Xo', 'userName': 'Dave Solakian', 'userImage': 'https://play-lh.googleusercontent.com/a-/AOh14Gh-kY3OlWK9CLEEjcQSpTTyUY_u9F2DtNG4y0UK_A', 'content': \"The app is simple to use and provides a good way to communicate with the Dr. and track your progress. However, there are times when things would go better without the app. When a form needs to be filled out, Ognomy sends it to you in an email. It can't be filled out electronically so you have to print it, then fill it out, the scan it or photograph it, then return it through the app. For me it would be much simpler to complete it on my PC and attach it to a reply email. OR, print it, fill it out, scan it, and attach it to a reply email. When an appointment is scheduled, Ognomy wants to handle the video call through the app. I HATE THIS. It's so much simpler for me to set up a video call on my laptop. The screen is larger, and the laptop sits on my desk. It's much more convenient than video chatting on my phone. My doctor has been able to accommodate my request, but I have to request that he set it up and send me a link. I would like to be able to specify my preferred device at the time the appointment is scheduled.\", 'score': 4, 'thumbsUpCount': 15, 'reviewCreatedVersion': '2.0.1', 'at': datetime.datetime(2021, 1, 13, 20, 39, 50), 'replyContent': \"Hi Dave & Sue, thank you for your comment! At this early stage of growth, we appreciate all feedback as it helps us to improve the patient experience. We apologise for the inconvenience - we do have plans in the near future to provide desktop availability for calls so this doesn't happen. Please contact us with anything else! sheepa@ognomy.com\", 'repliedAt': datetime.datetime(2021, 1, 14, 15, 59, 55)}, {'reviewId': 'gp:AOqpTOGnmMKghEMWMoy8H0RIOZxDJuSEzGLL-ufcYDS1ifC-n9rU5Ylu9V7_SFFR68biw89-2sOgRY2CMaQyqFw', 'userName': 'Miller E Caton Sr', 'userImage': 'https://play-lh.googleusercontent.com/a-/AOh14GhEBy0yRODdRht3NLlnfzXQpobB37QXHfQyXxspaA', 'content': \"Good step in finding locations it's a necessity to have this app.\", 'score': 4, 'thumbsUpCount': 8, 'reviewCreatedVersion': '2.0.1', 'at': datetime.datetime(2020, 12, 29, 20, 13, 17), 'replyContent': 'Thank you, Miller! We appreciate the feedback.\\n', 'repliedAt': datetime.datetime(2021, 1, 14, 15, 54, 5)}, {'reviewId': 'gp:AOqpTOG10s353ewlW6HbzqRYmsg1wuAeBkfAdDngwYTIfxEPlu7BGqNZ0nUyXPRguPg8Ce9suxDBA07sAUq2N9I', 'userName': 'Sam Clingan', 'userImage': 'https://play-lh.googleusercontent.com/a-/AOh14GjPVG0lXaMVni1_zJquyxwrFI1TILhf9ezUFOfkzw', 'content': \"They wanted so much personal info, and started talking about a consultation (which I had no interest in), I uninstalled the app before even getting started. I'd rather not be required to give some random app my phone number, personal address, agree to getting unwanted emails, etc. Please let me just open the app, no password, assess my sleep cycles, and close the app. Simple.\", 'score': 1, 'thumbsUpCount': 8, 'reviewCreatedVersion': None, 'at': datetime.datetime(2020, 12, 25, 11, 5, 5), 'replyContent': \"Thanks Sam. The 'learn more' pages on the app home screen explain why this information is necessary. Ognomy is not a 'sleep cycle' app. It is a virtual sleep apnea doctor's practice. We ask for the same details that you would expect when you see your doctor as it can affect the treatment you are prescribed. Please contact us for more information.\", 'repliedAt': datetime.datetime(2020, 12, 29, 10, 49, 53)}, {'reviewId': 'gp:AOqpTOFPARjZtfC_tbCj7qy9_0N7y9-4D0WlOwYL_Uf2ySrUEghnzTs0vKPc_Gsm1FEIpHQvfpm9q4lqkzv8OeU', 'userName': 'Ted sominfomisng', 'userImage': 'https://play-lh.googleusercontent.com/a/AATXAJzNT9ymPdOtFgWGvuWcpJFQaaCEk4aDEQRTKMiV=mo', 'content': \"Wanted all my personal information including insurance there's other apps that are free\", 'score': 1, 'thumbsUpCount': 2, 'reviewCreatedVersion': None, 'at': datetime.datetime(2020, 12, 19, 8, 26, 26), 'replyContent': \"Thanks Ted, the 'learn more' pages on the app home screen explain this further. Since Ognomy is a doctor’s office in the palm of your hands, we ask for the same details that you would expect when you see your doctor as it can affect the treatment you are prescribed. Ognomy is fully secure, HIPPA compliant and data is never shared without consent.\", 'repliedAt': datetime.datetime(2020, 12, 21, 11, 47, 56)}, {'reviewId': 'gp:AOqpTOEZBDWm6P619Gt3rJbBp4jDk2Oy9T30ZevhwkDngZbWRg0HSWbd0eIjU969_h0qAHRcm1tWYo082O4Np0Y', 'userName': 'Sara Buckley', 'userImage': 'https://play-lh.googleusercontent.com/a-/AOh14Gg2DfRM6IX5jRvR-CLnU7Om92t-vgUMw3-O7vfZPg', 'content': 'Amazing Y', 'score': 5, 'thumbsUpCount': 10, 'reviewCreatedVersion': '1.1.2', 'at': datetime.datetime(2020, 10, 27, 4, 27, 30), 'replyContent': 'Thanks Jonathan! We are glad to be able to assist in your sleep medicine care.\\nSleep well!\\nThe Ognomy Team', 'repliedAt': datetime.datetime(2020, 12, 21, 11, 49, 21)}, {'reviewId': 'gp:AOqpTOFkdqu2pMuRBX9RG_GRlFKyNTMXPrxyFFLime74ahIlOBDZjOIxb1tpEZxQNTo5axFLjDJaZcN8Sw1Y-CM', 'userName': 'Stephen H. Eubanks', 'userImage': 'https://play-lh.googleusercontent.com/a/AATXAJyMfH69PVkQqTNjKEFocCGDhqhjrqAQtGInZDfC=mo', 'content': 'Great', 'score': 5, 'thumbsUpCount': 7, 'reviewCreatedVersion': None, 'at': datetime.datetime(2020, 10, 16, 15, 36, 11), 'replyContent': 'Thanks Stephen! We are glad to be able to assist in your sleep medicine care.\\nSleep well!\\nThe Ognomy Team', 'repliedAt': datetime.datetime(2020, 12, 21, 11, 49, 34)}, {'reviewId': 'gp:AOqpTOEtsQ5pAuJZ7xXqxSw2WAIr9BS1L60yqTTVfKZsZ00mUQ6_wW0CWG9q68-xRe5UYzIKu7WflOBhXd39yIA', 'userName': 'Tammy D. Young', 'userImage': 'https://play-lh.googleusercontent.com/a/AATXAJy-5_L1-mhAkhw88m8YRvGhC3ev4TbG0rQ8M85e=mo', 'content': 'Enjoying it', 'score': 3, 'thumbsUpCount': 12, 'reviewCreatedVersion': '1.1.2', 'at': datetime.datetime(2020, 10, 9, 17, 21, 6), 'replyContent': 'Thanks Tammy!\\nWe appreciate all feedback as it helps us to continuously improve the patient experience. Thank you for letting us assist in your sleep medicine care.\\nSleep well!\\nThe Ognomy Team', 'repliedAt': datetime.datetime(2020, 12, 21, 11, 50, 29)}, {'reviewId': 'gp:AOqpTOH8OBF2TSN6fignGGOVSin5h31kWRbs52OUOFIAsx21n1ZnQNjf_s7VgtVW__8PH4-S1_YP1BJJFpbjxUk', 'userName': 'Michelle R', 'userImage': 'https://play-lh.googleusercontent.com/a/AATXAJzzuDy8JGY9xBQ_CUwPphBLZE568hr7nBMxVAIG=mo', 'content': 'A convenient, secure way to meet with the physician. Highly recommend.', 'score': 5, 'thumbsUpCount': 18, 'reviewCreatedVersion': '1.1.2', 'at': datetime.datetime(2020, 9, 15, 19, 55, 26), 'replyContent': 'Thanks Michelle! We are glad to be able to assist in your sleep medicine care.\\nSleep well!\\nThe Ognomy Team', 'repliedAt': datetime.datetime(2020, 12, 21, 11, 50, 44)}, {'reviewId': 'gp:AOqpTOE9n7bFDhrCfzMULUOXOHDTy6tHwCQIeHCmtwY3l-48j7NUnPqAMyzR_g9OYYErTq4m1kt7RPTAZsUmNM0', 'userName': 'XXsnipergirlXX', 'userImage': 'https://play-lh.googleusercontent.com/a-/AOh14Gj5jlfk1EZZa7Uj08HdzMXFgwj0IwDDnGNyJkTFwQ', 'content': 'Very bad', 'score': 1, 'thumbsUpCount': 14, 'reviewCreatedVersion': '1.1.2', 'at': datetime.datetime(2020, 9, 10, 2, 16, 44), 'replyContent': 'Hi KittyKate. We appreciate it when our patients take the time to leave us reviews because it lets us improve and serve them better each day. However, I took a look and it seems we have no patient record matching your name. Please contact me on judy.kelleher@ognomy.com if you are our customer. We will do our best to resolve this immediately. Thanks', 'repliedAt': datetime.datetime(2020, 9, 15, 13, 44, 58)}]\n"
          ],
          "name": "stdout"
        }
      ]
    },
    {
      "cell_type": "code",
      "metadata": {
        "colab": {
          "base_uri": "https://localhost:8080/"
        },
        "id": "gr4M6Xw4y5XX",
        "outputId": "e1f1a47b-d296-4d24-ce39-bb74ee9c0a73"
      },
      "source": [
        "for i in range(17):\n",
        "  print(len(result[i]))"
      ],
      "execution_count": 6,
      "outputs": [
        {
          "output_type": "stream",
          "text": [
            "10\n",
            "10\n",
            "10\n",
            "10\n",
            "10\n",
            "10\n",
            "10\n",
            "10\n",
            "10\n",
            "10\n",
            "10\n",
            "10\n",
            "10\n",
            "10\n",
            "10\n",
            "10\n",
            "10\n"
          ],
          "name": "stdout"
        }
      ]
    },
    {
      "cell_type": "code",
      "metadata": {
        "colab": {
          "base_uri": "https://localhost:8080/",
          "height": 69
        },
        "id": "7no6UHULq1fG",
        "outputId": "cc5ccd0b-d0ef-4a87-817c-f7c1daaa93c1"
      },
      "source": [
        "\"\"\"from google_play_scraper import Sort, reviews_all\n",
        "\n",
        "result_all = reviews_all(\n",
        "    'com.ognomy',\n",
        "    sleep_milliseconds=0, # defaults to 0\n",
        "    lang='en', # defaults to 'en'\n",
        "    country='us', # defaults to 'us'\n",
        "    #sort=Sort.MOST_RELEVANT, # defaults to Sort.MOST_RELEVANT\n",
        "    #filter_score_with=5 # defaults to None(means all score)\n",
        ")\"\"\""
      ],
      "execution_count": 7,
      "outputs": [
        {
          "output_type": "execute_result",
          "data": {
            "application/vnd.google.colaboratory.intrinsic+json": {
              "type": "string"
            },
            "text/plain": [
              "\"from google_play_scraper import Sort, reviews_all\\n\\nresult_all = reviews_all(\\n    'com.ognomy',\\n    sleep_milliseconds=0, # defaults to 0\\n    lang='en', # defaults to 'en'\\n    country='us', # defaults to 'us'\\n    #sort=Sort.MOST_RELEVANT, # defaults to Sort.MOST_RELEVANT\\n    #filter_score_with=5 # defaults to None(means all score)\\n)\""
            ]
          },
          "metadata": {
            "tags": []
          },
          "execution_count": 7
        }
      ]
    },
    {
      "cell_type": "code",
      "metadata": {
        "id": "amWktq6r3V3c"
      },
      "source": [
        "final_data_list=[]\n",
        "\n",
        "for i, review in enumerate(result):\n",
        "  all_detail_list=[]\n",
        "  all_detail_list=[result[i]['at'], result[i]['content'], result[i]['repliedAt'], result[i]['replyContent'],\\\n",
        "                   result[i]['reviewCreatedVersion'], result[i]['reviewId'], result[i]['score'], result[i]['thumbsUpCount'],\\\n",
        "                   result[i]['userImage'], result[i]['userName']]\n",
        "\n",
        "  final_data_list.append(all_detail_list)"
      ],
      "execution_count": 8,
      "outputs": []
    },
    {
      "cell_type": "code",
      "metadata": {
        "id": "zAvmroZU9uVg"
      },
      "source": [
        "import pandas as pd\n",
        "\n",
        "final_df= pd.DataFrame(final_data_list, columns =[\"Comment_time\",\"User_Comment\",\"Comment_repliedAtTime\",\"replyContent\", \"reviewCreatedVersion\", \"reviewId\", \"reviewRating\",\\\n",
        "                                               \"review_thumbsUpCount\", \"userImage_URL\",\"userName\"])\n"
      ],
      "execution_count": 10,
      "outputs": []
    },
    {
      "cell_type": "code",
      "metadata": {
        "colab": {
          "base_uri": "https://localhost:8080/",
          "height": 1000
        },
        "id": "32dGAp42_gQd",
        "outputId": "1d7ce8ab-1fa1-4c82-a843-2fc0a1875847"
      },
      "source": [
        "pd.set_option('max_colwidth', None)\n",
        "final_df"
      ],
      "execution_count": 12,
      "outputs": [
        {
          "output_type": "execute_result",
          "data": {
            "text/html": [
              "<div>\n",
              "<style scoped>\n",
              "    .dataframe tbody tr th:only-of-type {\n",
              "        vertical-align: middle;\n",
              "    }\n",
              "\n",
              "    .dataframe tbody tr th {\n",
              "        vertical-align: top;\n",
              "    }\n",
              "\n",
              "    .dataframe thead th {\n",
              "        text-align: right;\n",
              "    }\n",
              "</style>\n",
              "<table border=\"1\" class=\"dataframe\">\n",
              "  <thead>\n",
              "    <tr style=\"text-align: right;\">\n",
              "      <th></th>\n",
              "      <th>Comment_time</th>\n",
              "      <th>User_Comment</th>\n",
              "      <th>repliedAtTime</th>\n",
              "      <th>replyContent</th>\n",
              "      <th>reviewCreatedVersion</th>\n",
              "      <th>reviewId</th>\n",
              "      <th>reviewRating</th>\n",
              "      <th>review_thumbsUpCount</th>\n",
              "      <th>userImage_URL</th>\n",
              "      <th>userName</th>\n",
              "    </tr>\n",
              "  </thead>\n",
              "  <tbody>\n",
              "    <tr>\n",
              "      <th>0</th>\n",
              "      <td>2021-05-02 11:37:11</td>\n",
              "      <td>Nice</td>\n",
              "      <td>NaT</td>\n",
              "      <td>None</td>\n",
              "      <td>None</td>\n",
              "      <td>gp:AOqpTOHDdcQ5E_VY2Dpk0LcH6veQ6pkT1Kq3DgnK1Jdb-DpWSbeuexs7_fIioVJR-cv0u1imGO9g94UBCsPdu2c</td>\n",
              "      <td>5</td>\n",
              "      <td>0</td>\n",
              "      <td>https://play-lh.googleusercontent.com/a-/AOh14GixGYq_WAHJMTejvDoQ58ny16-LLg5CnZqAbThB</td>\n",
              "      <td>Rose Tv21</td>\n",
              "    </tr>\n",
              "    <tr>\n",
              "      <th>1</th>\n",
              "      <td>2021-04-25 09:35:31</td>\n",
              "      <td>Good app</td>\n",
              "      <td>NaT</td>\n",
              "      <td>None</td>\n",
              "      <td>None</td>\n",
              "      <td>gp:AOqpTOF-lP3iAlF8WblN8ppOI9rJiTdrp5VfO4QQvIxADFuP0ZMNaR6fngGl9cgmc9XLfuF1Wy1jzSBLdDcvetQ</td>\n",
              "      <td>5</td>\n",
              "      <td>0</td>\n",
              "      <td>https://play-lh.googleusercontent.com/a/AATXAJw8YlutGs92xJFv1zQpEPXPDlT0LCZLyk0ndsa6=mo</td>\n",
              "      <td>Saikat Tripura</td>\n",
              "    </tr>\n",
              "    <tr>\n",
              "      <th>2</th>\n",
              "      <td>2021-04-23 08:26:13</td>\n",
              "      <td>Nice apps</td>\n",
              "      <td>NaT</td>\n",
              "      <td>None</td>\n",
              "      <td>None</td>\n",
              "      <td>gp:AOqpTOHCUrWtxB14aYCpdLZQ3az2_Dzd5pgqgLvTSjHgLkVa3Xiz8gLcD6y7IuJKwkYn5ui6kwWeBk24YlYRgQY</td>\n",
              "      <td>5</td>\n",
              "      <td>1</td>\n",
              "      <td>https://play-lh.googleusercontent.com/a/AATXAJzSFAWoNlYdIdA51JGXMeeKyUUdUcW4fV2H2xKQ=mo</td>\n",
              "      <td>Tanmoy Sarkar</td>\n",
              "    </tr>\n",
              "    <tr>\n",
              "      <th>3</th>\n",
              "      <td>2021-04-23 06:44:13</td>\n",
              "      <td>Nice app</td>\n",
              "      <td>NaT</td>\n",
              "      <td>None</td>\n",
              "      <td>2.2.6</td>\n",
              "      <td>gp:AOqpTOHlzPoPwAvbW_sHi7RjRxrHXS7PEsPI4O4bEj08fawsAh0dy9f9eaDwtXmlWkQPI7P1bS6vhLvILLfqChY</td>\n",
              "      <td>5</td>\n",
              "      <td>0</td>\n",
              "      <td>https://play-lh.googleusercontent.com/a-/AOh14GgBFrfqIB65Yn1iHQRYXuq5zI_QQRMdNSrnYtGf</td>\n",
              "      <td>ÍMON KUMAR</td>\n",
              "    </tr>\n",
              "    <tr>\n",
              "      <th>4</th>\n",
              "      <td>2021-04-20 05:58:03</td>\n",
              "      <td>Very nice</td>\n",
              "      <td>NaT</td>\n",
              "      <td>None</td>\n",
              "      <td>None</td>\n",
              "      <td>gp:AOqpTOGf2p7dyaGnDUnEGvFWmL-XxvSyOjwBfmx1SwHxfIvppTFd4iIWYm70gx5rQNqATm0WKMFfx7J6IjiA1NY</td>\n",
              "      <td>5</td>\n",
              "      <td>0</td>\n",
              "      <td>https://play-lh.googleusercontent.com/a-/AOh14Gjv6peuIG0G-ACp7NecZk2NP8nl2PkpBFKlg2h2</td>\n",
              "      <td>Chanda Biswas</td>\n",
              "    </tr>\n",
              "    <tr>\n",
              "      <th>5</th>\n",
              "      <td>2021-04-01 01:36:21</td>\n",
              "      <td>Using this app to link my nightly sleep results/ changes to Dr. RIFKIN to monitor and adjust was the best decision I've made to improve my sleep.</td>\n",
              "      <td>NaT</td>\n",
              "      <td>None</td>\n",
              "      <td>2.0.1</td>\n",
              "      <td>gp:AOqpTOGv0ZRIJmKBGrdGjPyQ4JlFIu1QlEWIBBPUiaJY7MT7BXHoH66OCyokNVyZ6b_EgmeNyaUIhkEf-_O3puI</td>\n",
              "      <td>5</td>\n",
              "      <td>6</td>\n",
              "      <td>https://play-lh.googleusercontent.com/a/AATXAJwdvMfumJHZu0IldIt45YYejVl9elRtaHgj8nfc=mo</td>\n",
              "      <td>em s</td>\n",
              "    </tr>\n",
              "    <tr>\n",
              "      <th>6</th>\n",
              "      <td>2021-03-31 03:08:10</td>\n",
              "      <td>Annoying app that doesnt actually diagnose just a cash grab scam</td>\n",
              "      <td>2021-04-01 07:41:01</td>\n",
              "      <td>Hi Davis, this is not a fair reflection of our company and the hard work we have put into providing a good service for our patients. Over 3000 patients have had a positive experience with us &amp; we are anything but a cash grab scam. This kind of review can be very detrimental to reputations. Please only post what is actually true...happy to discuss!</td>\n",
              "      <td>None</td>\n",
              "      <td>gp:AOqpTOEN2b9M9P-dqLrNjhtflUoNmLqR_ab2orVwktarcjM7jksD_IsRuQz0SezjDer-J2znoB3S461dyYIw12U</td>\n",
              "      <td>1</td>\n",
              "      <td>0</td>\n",
              "      <td>https://play-lh.googleusercontent.com/a/AATXAJwW1X1AS0PDYFbVBhk00R-Mb7Qi4L1-jeRC43bo=mo</td>\n",
              "      <td>Davis Lockwood</td>\n",
              "    </tr>\n",
              "    <tr>\n",
              "      <th>7</th>\n",
              "      <td>2021-02-01 04:57:17</td>\n",
              "      <td>After 35 years of waking up at least 4 times a night, I decided to look into getting tested for sleep apnea. Ognomy connects you with facilities that offer at home sleep tests and all of your appointments can be via telemedicine. The sleep test was simple and within 2 weeks of my diagnosis I was able to get my CPAP machine. I am sleeping through the night for the first time in my life and no longer need to nap every day. LIFE CHANGING.</td>\n",
              "      <td>2021-02-05 09:54:08</td>\n",
              "      <td>Thank you for your feedback Colleen! We really appreciate it, and we are thrilled to continue to help you on your journey to better sleep.\\n</td>\n",
              "      <td>2.0.1</td>\n",
              "      <td>gp:AOqpTOFdwVPK0D-EJ9pT6P0fqkDfQvIDJPzJlEt0uPXHOAjy1_Ra_tF3-IWv3VrUvBbq0Tr60zKPi4RLWBytKbE</td>\n",
              "      <td>5</td>\n",
              "      <td>17</td>\n",
              "      <td>https://play-lh.googleusercontent.com/a/AATXAJzWYckpvUjQIuoTf9r06tY5KheqdIh0uSfOft0E=mo</td>\n",
              "      <td>Colleen Foley</td>\n",
              "    </tr>\n",
              "    <tr>\n",
              "      <th>8</th>\n",
              "      <td>2021-01-13 20:39:50</td>\n",
              "      <td>The app is simple to use and provides a good way to communicate with the Dr. and track your progress. However, there are times when things would go better without the app. When a form needs to be filled out, Ognomy sends it to you in an email. It can't be filled out electronically so you have to print it, then fill it out, the scan it or photograph it, then return it through the app. For me it would be much simpler to complete it on my PC and attach it to a reply email. OR, print it, fill it out, scan it, and attach it to a reply email. When an appointment is scheduled, Ognomy wants to handle the video call through the app. I HATE THIS. It's so much simpler for me to set up a video call on my laptop. The screen is larger, and the laptop sits on my desk. It's much more convenient than video chatting on my phone. My doctor has been able to accommodate my request, but I have to request that he set it up and send me a link. I would like to be able to specify my preferred device at the time the appointment is scheduled.</td>\n",
              "      <td>2021-01-14 15:59:55</td>\n",
              "      <td>Hi Dave &amp; Sue, thank you for your comment! At this early stage of growth, we appreciate all feedback as it helps us to improve the patient experience. We apologise for the inconvenience - we do have plans in the near future to provide desktop availability for calls so this doesn't happen. Please contact us with anything else! sheepa@ognomy.com</td>\n",
              "      <td>2.0.1</td>\n",
              "      <td>gp:AOqpTOGuIjzocyTx4O_mN_VYg8sWDloJG2G--qEsrgp72Tfuu-U9fkdkwoEwd9NMV3v1YZ0fbb2PoO57Vgyh8Xo</td>\n",
              "      <td>4</td>\n",
              "      <td>15</td>\n",
              "      <td>https://play-lh.googleusercontent.com/a-/AOh14Gh-kY3OlWK9CLEEjcQSpTTyUY_u9F2DtNG4y0UK_A</td>\n",
              "      <td>Dave Solakian</td>\n",
              "    </tr>\n",
              "    <tr>\n",
              "      <th>9</th>\n",
              "      <td>2020-12-29 20:13:17</td>\n",
              "      <td>Good step in finding locations it's a necessity to have this app.</td>\n",
              "      <td>2021-01-14 15:54:05</td>\n",
              "      <td>Thank you, Miller! We appreciate the feedback.\\n</td>\n",
              "      <td>2.0.1</td>\n",
              "      <td>gp:AOqpTOGnmMKghEMWMoy8H0RIOZxDJuSEzGLL-ufcYDS1ifC-n9rU5Ylu9V7_SFFR68biw89-2sOgRY2CMaQyqFw</td>\n",
              "      <td>4</td>\n",
              "      <td>8</td>\n",
              "      <td>https://play-lh.googleusercontent.com/a-/AOh14GhEBy0yRODdRht3NLlnfzXQpobB37QXHfQyXxspaA</td>\n",
              "      <td>Miller E Caton Sr</td>\n",
              "    </tr>\n",
              "    <tr>\n",
              "      <th>10</th>\n",
              "      <td>2020-12-25 11:05:05</td>\n",
              "      <td>They wanted so much personal info, and started talking about a consultation (which I had no interest in), I uninstalled the app before even getting started. I'd rather not be required to give some random app my phone number, personal address, agree to getting unwanted emails, etc. Please let me just open the app, no password, assess my sleep cycles, and close the app. Simple.</td>\n",
              "      <td>2020-12-29 10:49:53</td>\n",
              "      <td>Thanks Sam. The 'learn more' pages on the app home screen explain why this information is necessary. Ognomy is not a 'sleep cycle' app. It is a virtual sleep apnea doctor's practice. We ask for the same details that you would expect when you see your doctor as it can affect the treatment you are prescribed. Please contact us for more information.</td>\n",
              "      <td>None</td>\n",
              "      <td>gp:AOqpTOG10s353ewlW6HbzqRYmsg1wuAeBkfAdDngwYTIfxEPlu7BGqNZ0nUyXPRguPg8Ce9suxDBA07sAUq2N9I</td>\n",
              "      <td>1</td>\n",
              "      <td>8</td>\n",
              "      <td>https://play-lh.googleusercontent.com/a-/AOh14GjPVG0lXaMVni1_zJquyxwrFI1TILhf9ezUFOfkzw</td>\n",
              "      <td>Sam Clingan</td>\n",
              "    </tr>\n",
              "    <tr>\n",
              "      <th>11</th>\n",
              "      <td>2020-12-19 08:26:26</td>\n",
              "      <td>Wanted all my personal information including insurance there's other apps that are free</td>\n",
              "      <td>2020-12-21 11:47:56</td>\n",
              "      <td>Thanks Ted, the 'learn more' pages on the app home screen explain this further. Since Ognomy is a doctor’s office in the palm of your hands, we ask for the same details that you would expect when you see your doctor as it can affect the treatment you are prescribed. Ognomy is fully secure, HIPPA compliant and data is never shared without consent.</td>\n",
              "      <td>None</td>\n",
              "      <td>gp:AOqpTOFPARjZtfC_tbCj7qy9_0N7y9-4D0WlOwYL_Uf2ySrUEghnzTs0vKPc_Gsm1FEIpHQvfpm9q4lqkzv8OeU</td>\n",
              "      <td>1</td>\n",
              "      <td>2</td>\n",
              "      <td>https://play-lh.googleusercontent.com/a/AATXAJzNT9ymPdOtFgWGvuWcpJFQaaCEk4aDEQRTKMiV=mo</td>\n",
              "      <td>Ted sominfomisng</td>\n",
              "    </tr>\n",
              "    <tr>\n",
              "      <th>12</th>\n",
              "      <td>2020-10-27 04:27:30</td>\n",
              "      <td>Amazing Y</td>\n",
              "      <td>2020-12-21 11:49:21</td>\n",
              "      <td>Thanks Jonathan! We are glad to be able to assist in your sleep medicine care.\\nSleep well!\\nThe Ognomy Team</td>\n",
              "      <td>1.1.2</td>\n",
              "      <td>gp:AOqpTOEZBDWm6P619Gt3rJbBp4jDk2Oy9T30ZevhwkDngZbWRg0HSWbd0eIjU969_h0qAHRcm1tWYo082O4Np0Y</td>\n",
              "      <td>5</td>\n",
              "      <td>10</td>\n",
              "      <td>https://play-lh.googleusercontent.com/a-/AOh14Gg2DfRM6IX5jRvR-CLnU7Om92t-vgUMw3-O7vfZPg</td>\n",
              "      <td>Sara Buckley</td>\n",
              "    </tr>\n",
              "    <tr>\n",
              "      <th>13</th>\n",
              "      <td>2020-10-16 15:36:11</td>\n",
              "      <td>Great</td>\n",
              "      <td>2020-12-21 11:49:34</td>\n",
              "      <td>Thanks Stephen! We are glad to be able to assist in your sleep medicine care.\\nSleep well!\\nThe Ognomy Team</td>\n",
              "      <td>None</td>\n",
              "      <td>gp:AOqpTOFkdqu2pMuRBX9RG_GRlFKyNTMXPrxyFFLime74ahIlOBDZjOIxb1tpEZxQNTo5axFLjDJaZcN8Sw1Y-CM</td>\n",
              "      <td>5</td>\n",
              "      <td>7</td>\n",
              "      <td>https://play-lh.googleusercontent.com/a/AATXAJyMfH69PVkQqTNjKEFocCGDhqhjrqAQtGInZDfC=mo</td>\n",
              "      <td>Stephen H. Eubanks</td>\n",
              "    </tr>\n",
              "    <tr>\n",
              "      <th>14</th>\n",
              "      <td>2020-10-09 17:21:06</td>\n",
              "      <td>Enjoying it</td>\n",
              "      <td>2020-12-21 11:50:29</td>\n",
              "      <td>Thanks Tammy!\\nWe appreciate all feedback as it helps us to continuously improve the patient experience. Thank you for letting us assist in your sleep medicine care.\\nSleep well!\\nThe Ognomy Team</td>\n",
              "      <td>1.1.2</td>\n",
              "      <td>gp:AOqpTOEtsQ5pAuJZ7xXqxSw2WAIr9BS1L60yqTTVfKZsZ00mUQ6_wW0CWG9q68-xRe5UYzIKu7WflOBhXd39yIA</td>\n",
              "      <td>3</td>\n",
              "      <td>12</td>\n",
              "      <td>https://play-lh.googleusercontent.com/a/AATXAJy-5_L1-mhAkhw88m8YRvGhC3ev4TbG0rQ8M85e=mo</td>\n",
              "      <td>Tammy D. Young</td>\n",
              "    </tr>\n",
              "    <tr>\n",
              "      <th>15</th>\n",
              "      <td>2020-09-15 19:55:26</td>\n",
              "      <td>A convenient, secure way to meet with the physician. Highly recommend.</td>\n",
              "      <td>2020-12-21 11:50:44</td>\n",
              "      <td>Thanks Michelle! We are glad to be able to assist in your sleep medicine care.\\nSleep well!\\nThe Ognomy Team</td>\n",
              "      <td>1.1.2</td>\n",
              "      <td>gp:AOqpTOH8OBF2TSN6fignGGOVSin5h31kWRbs52OUOFIAsx21n1ZnQNjf_s7VgtVW__8PH4-S1_YP1BJJFpbjxUk</td>\n",
              "      <td>5</td>\n",
              "      <td>18</td>\n",
              "      <td>https://play-lh.googleusercontent.com/a/AATXAJzzuDy8JGY9xBQ_CUwPphBLZE568hr7nBMxVAIG=mo</td>\n",
              "      <td>Michelle R</td>\n",
              "    </tr>\n",
              "    <tr>\n",
              "      <th>16</th>\n",
              "      <td>2020-09-10 02:16:44</td>\n",
              "      <td>Very bad</td>\n",
              "      <td>2020-09-15 13:44:58</td>\n",
              "      <td>Hi KittyKate. We appreciate it when our patients take the time to leave us reviews because it lets us improve and serve them better each day. However, I took a look and it seems we have no patient record matching your name. Please contact me on judy.kelleher@ognomy.com if you are our customer. We will do our best to resolve this immediately. Thanks</td>\n",
              "      <td>1.1.2</td>\n",
              "      <td>gp:AOqpTOE9n7bFDhrCfzMULUOXOHDTy6tHwCQIeHCmtwY3l-48j7NUnPqAMyzR_g9OYYErTq4m1kt7RPTAZsUmNM0</td>\n",
              "      <td>1</td>\n",
              "      <td>14</td>\n",
              "      <td>https://play-lh.googleusercontent.com/a-/AOh14Gj5jlfk1EZZa7Uj08HdzMXFgwj0IwDDnGNyJkTFwQ</td>\n",
              "      <td>XXsnipergirlXX</td>\n",
              "    </tr>\n",
              "  </tbody>\n",
              "</table>\n",
              "</div>"
            ],
            "text/plain": [
              "          Comment_time  ...            userName\n",
              "0  2021-05-02 11:37:11  ...           Rose Tv21\n",
              "1  2021-04-25 09:35:31  ...      Saikat Tripura\n",
              "2  2021-04-23 08:26:13  ...       Tanmoy Sarkar\n",
              "3  2021-04-23 06:44:13  ...          ÍMON KUMAR\n",
              "4  2021-04-20 05:58:03  ...       Chanda Biswas\n",
              "5  2021-04-01 01:36:21  ...                em s\n",
              "6  2021-03-31 03:08:10  ...      Davis Lockwood\n",
              "7  2021-02-01 04:57:17  ...       Colleen Foley\n",
              "8  2021-01-13 20:39:50  ...       Dave Solakian\n",
              "9  2020-12-29 20:13:17  ...   Miller E Caton Sr\n",
              "10 2020-12-25 11:05:05  ...         Sam Clingan\n",
              "11 2020-12-19 08:26:26  ...    Ted sominfomisng\n",
              "12 2020-10-27 04:27:30  ...        Sara Buckley\n",
              "13 2020-10-16 15:36:11  ...  Stephen H. Eubanks\n",
              "14 2020-10-09 17:21:06  ...      Tammy D. Young\n",
              "15 2020-09-15 19:55:26  ...          Michelle R\n",
              "16 2020-09-10 02:16:44  ...      XXsnipergirlXX\n",
              "\n",
              "[17 rows x 10 columns]"
            ]
          },
          "metadata": {
            "tags": []
          },
          "execution_count": 12
        }
      ]
    },
    {
      "cell_type": "code",
      "metadata": {
        "id": "407LDq9lBhEN"
      },
      "source": [
        "replied_to=[]\n",
        "list1= final_df['replyContent']\n",
        "for items in list1:\n",
        "  if items:\n",
        "    replied_to.append('yes')\n",
        "  else:\n",
        "    replied_to.append('no')"
      ],
      "execution_count": 26,
      "outputs": []
    },
    {
      "cell_type": "code",
      "metadata": {
        "colab": {
          "base_uri": "https://localhost:8080/"
        },
        "id": "mn3qCrgQCzbb",
        "outputId": "58f824ac-21d3-403c-dee6-f32e86c1a14a"
      },
      "source": [
        "len(replied_to)"
      ],
      "execution_count": 28,
      "outputs": [
        {
          "output_type": "execute_result",
          "data": {
            "text/plain": [
              "17"
            ]
          },
          "metadata": {
            "tags": []
          },
          "execution_count": 28
        }
      ]
    },
    {
      "cell_type": "code",
      "metadata": {
        "id": "avAopyTJCue8"
      },
      "source": [
        "final_df['Comment got reply?']= replied_to"
      ],
      "execution_count": 29,
      "outputs": []
    },
    {
      "cell_type": "code",
      "metadata": {
        "colab": {
          "base_uri": "https://localhost:8080/",
          "height": 339
        },
        "id": "UeKs7NamEket",
        "outputId": "22c94c8d-15bd-4f4a-a48a-5e83a1f18e6d"
      },
      "source": [
        "final_df.head()"
      ],
      "execution_count": 30,
      "outputs": [
        {
          "output_type": "execute_result",
          "data": {
            "text/html": [
              "<div>\n",
              "<style scoped>\n",
              "    .dataframe tbody tr th:only-of-type {\n",
              "        vertical-align: middle;\n",
              "    }\n",
              "\n",
              "    .dataframe tbody tr th {\n",
              "        vertical-align: top;\n",
              "    }\n",
              "\n",
              "    .dataframe thead th {\n",
              "        text-align: right;\n",
              "    }\n",
              "</style>\n",
              "<table border=\"1\" class=\"dataframe\">\n",
              "  <thead>\n",
              "    <tr style=\"text-align: right;\">\n",
              "      <th></th>\n",
              "      <th>Comment_time</th>\n",
              "      <th>User_Comment</th>\n",
              "      <th>repliedAtTime</th>\n",
              "      <th>replyContent</th>\n",
              "      <th>reviewCreatedVersion</th>\n",
              "      <th>reviewId</th>\n",
              "      <th>reviewRating</th>\n",
              "      <th>review_thumbsUpCount</th>\n",
              "      <th>userImage_URL</th>\n",
              "      <th>userName</th>\n",
              "      <th>Comment got reply?</th>\n",
              "    </tr>\n",
              "  </thead>\n",
              "  <tbody>\n",
              "    <tr>\n",
              "      <th>0</th>\n",
              "      <td>2021-05-02 11:37:11</td>\n",
              "      <td>Nice</td>\n",
              "      <td>NaT</td>\n",
              "      <td>None</td>\n",
              "      <td>None</td>\n",
              "      <td>gp:AOqpTOHDdcQ5E_VY2Dpk0LcH6veQ6pkT1Kq3DgnK1Jdb-DpWSbeuexs7_fIioVJR-cv0u1imGO9g94UBCsPdu2c</td>\n",
              "      <td>5</td>\n",
              "      <td>0</td>\n",
              "      <td>https://play-lh.googleusercontent.com/a-/AOh14GixGYq_WAHJMTejvDoQ58ny16-LLg5CnZqAbThB</td>\n",
              "      <td>Rose Tv21</td>\n",
              "      <td>no</td>\n",
              "    </tr>\n",
              "    <tr>\n",
              "      <th>1</th>\n",
              "      <td>2021-04-25 09:35:31</td>\n",
              "      <td>Good app</td>\n",
              "      <td>NaT</td>\n",
              "      <td>None</td>\n",
              "      <td>None</td>\n",
              "      <td>gp:AOqpTOF-lP3iAlF8WblN8ppOI9rJiTdrp5VfO4QQvIxADFuP0ZMNaR6fngGl9cgmc9XLfuF1Wy1jzSBLdDcvetQ</td>\n",
              "      <td>5</td>\n",
              "      <td>0</td>\n",
              "      <td>https://play-lh.googleusercontent.com/a/AATXAJw8YlutGs92xJFv1zQpEPXPDlT0LCZLyk0ndsa6=mo</td>\n",
              "      <td>Saikat Tripura</td>\n",
              "      <td>no</td>\n",
              "    </tr>\n",
              "    <tr>\n",
              "      <th>2</th>\n",
              "      <td>2021-04-23 08:26:13</td>\n",
              "      <td>Nice apps</td>\n",
              "      <td>NaT</td>\n",
              "      <td>None</td>\n",
              "      <td>None</td>\n",
              "      <td>gp:AOqpTOHCUrWtxB14aYCpdLZQ3az2_Dzd5pgqgLvTSjHgLkVa3Xiz8gLcD6y7IuJKwkYn5ui6kwWeBk24YlYRgQY</td>\n",
              "      <td>5</td>\n",
              "      <td>1</td>\n",
              "      <td>https://play-lh.googleusercontent.com/a/AATXAJzSFAWoNlYdIdA51JGXMeeKyUUdUcW4fV2H2xKQ=mo</td>\n",
              "      <td>Tanmoy Sarkar</td>\n",
              "      <td>no</td>\n",
              "    </tr>\n",
              "    <tr>\n",
              "      <th>3</th>\n",
              "      <td>2021-04-23 06:44:13</td>\n",
              "      <td>Nice app</td>\n",
              "      <td>NaT</td>\n",
              "      <td>None</td>\n",
              "      <td>2.2.6</td>\n",
              "      <td>gp:AOqpTOHlzPoPwAvbW_sHi7RjRxrHXS7PEsPI4O4bEj08fawsAh0dy9f9eaDwtXmlWkQPI7P1bS6vhLvILLfqChY</td>\n",
              "      <td>5</td>\n",
              "      <td>0</td>\n",
              "      <td>https://play-lh.googleusercontent.com/a-/AOh14GgBFrfqIB65Yn1iHQRYXuq5zI_QQRMdNSrnYtGf</td>\n",
              "      <td>ÍMON KUMAR</td>\n",
              "      <td>no</td>\n",
              "    </tr>\n",
              "    <tr>\n",
              "      <th>4</th>\n",
              "      <td>2021-04-20 05:58:03</td>\n",
              "      <td>Very nice</td>\n",
              "      <td>NaT</td>\n",
              "      <td>None</td>\n",
              "      <td>None</td>\n",
              "      <td>gp:AOqpTOGf2p7dyaGnDUnEGvFWmL-XxvSyOjwBfmx1SwHxfIvppTFd4iIWYm70gx5rQNqATm0WKMFfx7J6IjiA1NY</td>\n",
              "      <td>5</td>\n",
              "      <td>0</td>\n",
              "      <td>https://play-lh.googleusercontent.com/a-/AOh14Gjv6peuIG0G-ACp7NecZk2NP8nl2PkpBFKlg2h2</td>\n",
              "      <td>Chanda Biswas</td>\n",
              "      <td>no</td>\n",
              "    </tr>\n",
              "  </tbody>\n",
              "</table>\n",
              "</div>"
            ],
            "text/plain": [
              "         Comment_time User_Comment  ...        userName Comment got reply?\n",
              "0 2021-05-02 11:37:11         Nice  ...       Rose Tv21                 no\n",
              "1 2021-04-25 09:35:31     Good app  ...  Saikat Tripura                 no\n",
              "2 2021-04-23 08:26:13    Nice apps  ...   Tanmoy Sarkar                 no\n",
              "3 2021-04-23 06:44:13     Nice app  ...      ÍMON KUMAR                 no\n",
              "4 2021-04-20 05:58:03    Very nice  ...   Chanda Biswas                 no\n",
              "\n",
              "[5 rows x 11 columns]"
            ]
          },
          "metadata": {
            "tags": []
          },
          "execution_count": 30
        }
      ]
    },
    {
      "cell_type": "code",
      "metadata": {
        "id": "CTgD2DliErGL"
      },
      "source": [
        "final_df.to_csv('/content/sample_data/g-play_scraped_ognomy.csv', index= False)"
      ],
      "execution_count": 31,
      "outputs": []
    }
  ]
}